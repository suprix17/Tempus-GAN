{
 "cells": [
  {
   "cell_type": "code",
   "execution_count": 9,
   "id": "1d02075f",
   "metadata": {},
   "outputs": [],
   "source": [
    "# import the necessary libraries to execute this code\n",
    "import numpy as np\n",
    "import pandas as pd\n",
    "from sklearn.preprocessing import StandardScaler\n",
    "from sklearn.metrics import mean_absolute_error\n",
    "from sklearn.model_selection import GroupKFold, GroupShuffleSplit\n",
    "from sklearn.model_selection import RandomizedSearchCV as RSCV\n",
    "import pickle\n",
    "from lightgbm import LGBMRegressor"
   ]
  },
  {
   "cell_type": "markdown",
   "id": "a980439a",
   "metadata": {},
   "source": [
    "# NESTED_CV for the reduced feature model (LGBM)"
   ]
  },
  {
   "cell_type": "code",
   "execution_count": 66,
   "id": "ab4c32bb",
   "metadata": {},
   "outputs": [],
   "source": [
    "datafile = \"Dataset_15_feat.xlsx\"\n",
    "df = pd.read_excel(datafile)\n",
    "          \n",
    "model = LGBMRegressor(random_state=4)\n",
    "p_grid ={\"n_estimators\":[100,150,200,250,300,400,500,600],\n",
    "        'boosting_type': ['gbdt', 'dart', 'goss'],\n",
    "        'num_leaves':[16,32,64,128,256],\n",
    "        'learning_rate':[0.1,0.01,0.001,0.0001],\n",
    "        'min_child_weight': [0.001,0.01,0.1,1.0,10.0],\n",
    "        'subsample': [0.4,0.6,0.8,1.0],\n",
    "        'min_child_samples':[2,10,20,40,100],\n",
    "        'reg_alpha': [0, 0.005, 0.01, 0.015],\n",
    "        'reg_lambda': [0, 0.005, 0.01, 0.015]}\n",
    "        \n",
    "X = df.drop(['Experimental_index','DP_Group','Release'],axis='columns')\n",
    "stdScale = StandardScaler().fit(X)\n",
    "X=stdScale.transform(X)\n",
    "Y = df['Release']\n",
    "G = df['DP_Group']\n",
    "E = df['Experimental_index']\n",
    "T = df['Time']    "
   ]
  },
  {
   "cell_type": "code",
   "execution_count": 68,
   "id": "b05346d2",
   "metadata": {
    "scrolled": true
   },
   "outputs": [
    {
     "name": "stderr",
     "output_type": "stream",
     "text": [
      "/opt/homebrew/Caskroom/miniforge/base/envs/tensorflow/lib/python3.9/site-packages/joblib/externals/loky/process_executor.py:702: UserWarning: A worker stopped while some jobs were given to the executor. This can be caused by a too short worker timeout or by a memory leak.\n",
      "  warnings.warn(\n"
     ]
    },
    {
     "name": "stdout",
     "output_type": "stream",
     "text": [
      "\n",
      "################################################################\n",
      "\n",
      "STATUS REPORT:\n",
      "Iteration 1 of 10 completed\n",
      "Test_Score: 0.084, Best_Valid_Score: 0.132, \n",
      "\n",
      "Best_Model_Params: \n",
      "{'subsample': 0.6, 'reg_lambda': 0, 'reg_alpha': 0.005, 'num_leaves': 64, 'n_estimators': 500, 'min_child_weight': 0.1, 'min_child_samples': 2, 'learning_rate': 0.1, 'boosting_type': 'goss'}\n",
      "\n",
      "################################################################\n",
      " \n"
     ]
    },
    {
     "name": "stderr",
     "output_type": "stream",
     "text": [
      "/opt/homebrew/Caskroom/miniforge/base/envs/tensorflow/lib/python3.9/site-packages/joblib/externals/loky/process_executor.py:702: UserWarning: A worker stopped while some jobs were given to the executor. This can be caused by a too short worker timeout or by a memory leak.\n",
      "  warnings.warn(\n"
     ]
    },
    {
     "name": "stdout",
     "output_type": "stream",
     "text": [
      "\n",
      "################################################################\n",
      "\n",
      "STATUS REPORT:\n",
      "Iteration 2 of 10 completed\n",
      "Test_Score: 0.124, Best_Valid_Score: 0.126, \n",
      "\n",
      "Best_Model_Params: \n",
      "{'subsample': 1.0, 'reg_lambda': 0.01, 'reg_alpha': 0.005, 'num_leaves': 16, 'n_estimators': 500, 'min_child_weight': 1.0, 'min_child_samples': 20, 'learning_rate': 0.1, 'boosting_type': 'dart'}\n",
      "\n",
      "################################################################\n",
      " \n"
     ]
    },
    {
     "name": "stderr",
     "output_type": "stream",
     "text": [
      "/opt/homebrew/Caskroom/miniforge/base/envs/tensorflow/lib/python3.9/site-packages/joblib/externals/loky/process_executor.py:702: UserWarning: A worker stopped while some jobs were given to the executor. This can be caused by a too short worker timeout or by a memory leak.\n",
      "  warnings.warn(\n"
     ]
    },
    {
     "name": "stdout",
     "output_type": "stream",
     "text": [
      "\n",
      "################################################################\n",
      "\n",
      "STATUS REPORT:\n",
      "Iteration 3 of 10 completed\n",
      "Test_Score: 0.108, Best_Valid_Score: 0.125, \n",
      "\n",
      "Best_Model_Params: \n",
      "{'subsample': 0.8, 'reg_lambda': 0.005, 'reg_alpha': 0.005, 'num_leaves': 32, 'n_estimators': 600, 'min_child_weight': 0.1, 'min_child_samples': 100, 'learning_rate': 0.1, 'boosting_type': 'dart'}\n",
      "\n",
      "################################################################\n",
      " \n"
     ]
    },
    {
     "name": "stderr",
     "output_type": "stream",
     "text": [
      "/opt/homebrew/Caskroom/miniforge/base/envs/tensorflow/lib/python3.9/site-packages/joblib/externals/loky/process_executor.py:702: UserWarning: A worker stopped while some jobs were given to the executor. This can be caused by a too short worker timeout or by a memory leak.\n",
      "  warnings.warn(\n"
     ]
    },
    {
     "name": "stdout",
     "output_type": "stream",
     "text": [
      "\n",
      "################################################################\n",
      "\n",
      "STATUS REPORT:\n",
      "Iteration 4 of 10 completed\n",
      "Test_Score: 0.119, Best_Valid_Score: 0.142, \n",
      "\n",
      "Best_Model_Params: \n",
      "{'subsample': 0.4, 'reg_lambda': 0.01, 'reg_alpha': 0.01, 'num_leaves': 32, 'n_estimators': 250, 'min_child_weight': 0.1, 'min_child_samples': 10, 'learning_rate': 0.1, 'boosting_type': 'gbdt'}\n",
      "\n",
      "################################################################\n",
      " \n"
     ]
    },
    {
     "name": "stderr",
     "output_type": "stream",
     "text": [
      "/opt/homebrew/Caskroom/miniforge/base/envs/tensorflow/lib/python3.9/site-packages/joblib/externals/loky/process_executor.py:702: UserWarning: A worker stopped while some jobs were given to the executor. This can be caused by a too short worker timeout or by a memory leak.\n",
      "  warnings.warn(\n"
     ]
    },
    {
     "name": "stdout",
     "output_type": "stream",
     "text": [
      "\n",
      "################################################################\n",
      "\n",
      "STATUS REPORT:\n",
      "Iteration 5 of 10 completed\n",
      "Test_Score: 0.111, Best_Valid_Score: 0.125, \n",
      "\n",
      "Best_Model_Params: \n",
      "{'subsample': 0.6, 'reg_lambda': 0.01, 'reg_alpha': 0.005, 'num_leaves': 16, 'n_estimators': 400, 'min_child_weight': 0.001, 'min_child_samples': 40, 'learning_rate': 0.1, 'boosting_type': 'dart'}\n",
      "\n",
      "################################################################\n",
      " \n"
     ]
    },
    {
     "name": "stderr",
     "output_type": "stream",
     "text": [
      "/opt/homebrew/Caskroom/miniforge/base/envs/tensorflow/lib/python3.9/site-packages/joblib/externals/loky/process_executor.py:702: UserWarning: A worker stopped while some jobs were given to the executor. This can be caused by a too short worker timeout or by a memory leak.\n",
      "  warnings.warn(\n"
     ]
    },
    {
     "name": "stdout",
     "output_type": "stream",
     "text": [
      "\n",
      "################################################################\n",
      "\n",
      "STATUS REPORT:\n",
      "Iteration 6 of 10 completed\n",
      "Test_Score: 0.113, Best_Valid_Score: 0.129, \n",
      "\n",
      "Best_Model_Params: \n",
      "{'subsample': 0.6, 'reg_lambda': 0, 'reg_alpha': 0.01, 'num_leaves': 64, 'n_estimators': 100, 'min_child_weight': 0.01, 'min_child_samples': 20, 'learning_rate': 0.1, 'boosting_type': 'gbdt'}\n",
      "\n",
      "################################################################\n",
      " \n"
     ]
    },
    {
     "name": "stderr",
     "output_type": "stream",
     "text": [
      "/opt/homebrew/Caskroom/miniforge/base/envs/tensorflow/lib/python3.9/site-packages/joblib/externals/loky/process_executor.py:702: UserWarning: A worker stopped while some jobs were given to the executor. This can be caused by a too short worker timeout or by a memory leak.\n",
      "  warnings.warn(\n"
     ]
    },
    {
     "name": "stdout",
     "output_type": "stream",
     "text": [
      "\n",
      "################################################################\n",
      "\n",
      "STATUS REPORT:\n",
      "Iteration 7 of 10 completed\n",
      "Test_Score: 0.122, Best_Valid_Score: 0.122, \n",
      "\n",
      "Best_Model_Params: \n",
      "{'subsample': 1.0, 'reg_lambda': 0.015, 'reg_alpha': 0.015, 'num_leaves': 16, 'n_estimators': 300, 'min_child_weight': 1.0, 'min_child_samples': 20, 'learning_rate': 0.1, 'boosting_type': 'dart'}\n",
      "\n",
      "################################################################\n",
      " \n"
     ]
    },
    {
     "name": "stderr",
     "output_type": "stream",
     "text": [
      "/opt/homebrew/Caskroom/miniforge/base/envs/tensorflow/lib/python3.9/site-packages/joblib/externals/loky/process_executor.py:702: UserWarning: A worker stopped while some jobs were given to the executor. This can be caused by a too short worker timeout or by a memory leak.\n",
      "  warnings.warn(\n"
     ]
    },
    {
     "name": "stdout",
     "output_type": "stream",
     "text": [
      "\n",
      "################################################################\n",
      "\n",
      "STATUS REPORT:\n",
      "Iteration 8 of 10 completed\n",
      "Test_Score: 0.097, Best_Valid_Score: 0.133, \n",
      "\n",
      "Best_Model_Params: \n",
      "{'subsample': 0.6, 'reg_lambda': 0.01, 'reg_alpha': 0, 'num_leaves': 16, 'n_estimators': 200, 'min_child_weight': 0.1, 'min_child_samples': 20, 'learning_rate': 0.1, 'boosting_type': 'goss'}\n",
      "\n",
      "################################################################\n",
      " \n"
     ]
    },
    {
     "name": "stderr",
     "output_type": "stream",
     "text": [
      "/opt/homebrew/Caskroom/miniforge/base/envs/tensorflow/lib/python3.9/site-packages/joblib/externals/loky/process_executor.py:702: UserWarning: A worker stopped while some jobs were given to the executor. This can be caused by a too short worker timeout or by a memory leak.\n",
      "  warnings.warn(\n"
     ]
    },
    {
     "name": "stdout",
     "output_type": "stream",
     "text": [
      "\n",
      "################################################################\n",
      "\n",
      "STATUS REPORT:\n",
      "Iteration 9 of 10 completed\n",
      "Test_Score: 0.140, Best_Valid_Score: 0.121, \n",
      "\n",
      "Best_Model_Params: \n",
      "{'subsample': 0.8, 'reg_lambda': 0.015, 'reg_alpha': 0.005, 'num_leaves': 64, 'n_estimators': 150, 'min_child_weight': 10.0, 'min_child_samples': 40, 'learning_rate': 0.1, 'boosting_type': 'goss'}\n",
      "\n",
      "################################################################\n",
      " \n"
     ]
    },
    {
     "name": "stderr",
     "output_type": "stream",
     "text": [
      "/opt/homebrew/Caskroom/miniforge/base/envs/tensorflow/lib/python3.9/site-packages/joblib/externals/loky/process_executor.py:702: UserWarning: A worker stopped while some jobs were given to the executor. This can be caused by a too short worker timeout or by a memory leak.\n",
      "  warnings.warn(\n"
     ]
    },
    {
     "name": "stdout",
     "output_type": "stream",
     "text": [
      "\n",
      "################################################################\n",
      "\n",
      "STATUS REPORT:\n",
      "Iteration 10 of 10 completed\n",
      "Test_Score: 0.173, Best_Valid_Score: 0.119, \n",
      "\n",
      "Best_Model_Params: \n",
      "{'subsample': 0.8, 'reg_lambda': 0.015, 'reg_alpha': 0.015, 'num_leaves': 16, 'n_estimators': 500, 'min_child_weight': 0.001, 'min_child_samples': 40, 'learning_rate': 0.1, 'boosting_type': 'goss'}\n",
      "\n",
      "################################################################\n",
      " \n"
     ]
    }
   ],
   "source": [
    "NUM_TRIALS = 10\n",
    "\n",
    "itr_number = [] # create new empty list for itr number \n",
    "outer_results = []\n",
    "inner_results = []\n",
    "model_params = []\n",
    "G_test_list = []\n",
    "y_test_list = []\n",
    "E_test_list = []\n",
    "T_test_list = []\n",
    "pred_list = []\n",
    "\n",
    "for i in range(NUM_TRIALS): #configure the cross-validation procedure - outer loop (test set) \n",
    "    \n",
    "    cv_outer = GroupShuffleSplit(n_splits=1, test_size=0.2, random_state=i) #hold back 20% of the groups for test set\n",
    "    \n",
    "    # split data using GSS\n",
    "    for train_index, test_index in cv_outer.split(X, Y, G):\n",
    "        X_train, X_test = X[train_index], X[test_index]\n",
    "        y_train, y_test = Y[train_index], Y[test_index]\n",
    "        G_train, G_test = G[train_index], G[test_index]\n",
    "        E_train, E_test = E[train_index], E[test_index]\n",
    "        T_train, T_test = T[train_index], T[test_index]\n",
    "\n",
    "        # store test set information\n",
    "        G_test = np.array(G_test) #prevents index from being brought from dataframe\n",
    "        G_test_list.append(G_test)\n",
    "        E_test = np.array(E_test) #prevents index from being brought from dataframe\n",
    "        E_test_list.append(E_test)\n",
    "        T_test = np.array(T_test) #prevents index from being brought from dataframe\n",
    "        T_test_list.append(T_test)\n",
    "        y_test = np.array(y_test) #prevents index from being brought from dataframe\n",
    "        y_test_list.append(y_test)\n",
    "\n",
    "        # configure the cross-validation procedure - inner loop (validation set/HP optimization)\n",
    "        cv_inner = GroupKFold(n_splits=10) #should be 10 fold group split for inner loop\n",
    "\n",
    "        # define search space\n",
    "        search = RSCV(model, p_grid, n_iter=100, verbose=0, scoring='neg_mean_absolute_error', n_jobs= 6, cv=cv_inner, refit=True) # should be 100\n",
    "\n",
    "        # execute search\n",
    "        result = search.fit(X_train, y_train, groups=G_train)\n",
    "\n",
    "        # get the best performing model fit on the whole training set\n",
    "        best_model = result.best_estimator_\n",
    "        \n",
    "        # get the score for the best performing model and store\n",
    "        best_score = abs(result.best_score_)\n",
    "        inner_results.append(best_score)\n",
    "\n",
    "        # evaluate model on the hold out dataset\n",
    "        yhat = np.round(best_model.predict(X_test), 3)\n",
    "\n",
    "        \n",
    "        # store drug release predictions\n",
    "        pred_list.append(yhat)\n",
    "\n",
    "        # evaluate the model\n",
    "        acc = mean_absolute_error(y_test, yhat)\n",
    "\n",
    "        # store the result\n",
    "        itr_number.append(i+1)\n",
    "        outer_results.append(acc)\n",
    "        model_params.append(result.best_params_)\n",
    "\n",
    "        # report progress at end of each inner loop\n",
    "        print('\\n################################################################\\n\\nSTATUS REPORT:') \n",
    "        print('Iteration '+str(i+1)+' of '+str(NUM_TRIALS)+' completed') \n",
    "        print('Test_Score: %.3f, Best_Valid_Score: %.3f, \\n\\nBest_Model_Params: \\n%s' % (acc, best_score, result.best_params_))\n",
    "        print(\"\\n################################################################\\n \")\n"
   ]
  },
  {
   "cell_type": "code",
   "execution_count": 69,
   "id": "98d83786",
   "metadata": {},
   "outputs": [
    {
     "data": {
      "text/html": [
       "<div>\n",
       "<style scoped>\n",
       "    .dataframe tbody tr th:only-of-type {\n",
       "        vertical-align: middle;\n",
       "    }\n",
       "\n",
       "    .dataframe tbody tr th {\n",
       "        vertical-align: top;\n",
       "    }\n",
       "\n",
       "    .dataframe thead th {\n",
       "        text-align: right;\n",
       "    }\n",
       "</style>\n",
       "<table border=\"1\" class=\"dataframe\">\n",
       "  <thead>\n",
       "    <tr style=\"text-align: right;\">\n",
       "      <th></th>\n",
       "      <th>Iter</th>\n",
       "      <th>Valid Score</th>\n",
       "      <th>Test Score</th>\n",
       "      <th>Score_difference</th>\n",
       "    </tr>\n",
       "  </thead>\n",
       "  <tbody>\n",
       "    <tr>\n",
       "      <th>count</th>\n",
       "      <td>10.00000</td>\n",
       "      <td>10.000000</td>\n",
       "      <td>10.000000</td>\n",
       "      <td>10.000000</td>\n",
       "    </tr>\n",
       "    <tr>\n",
       "      <th>mean</th>\n",
       "      <td>5.50000</td>\n",
       "      <td>0.127273</td>\n",
       "      <td>0.119088</td>\n",
       "      <td>0.022861</td>\n",
       "    </tr>\n",
       "    <tr>\n",
       "      <th>std</th>\n",
       "      <td>3.02765</td>\n",
       "      <td>0.006875</td>\n",
       "      <td>0.024174</td>\n",
       "      <td>0.017834</td>\n",
       "    </tr>\n",
       "    <tr>\n",
       "      <th>min</th>\n",
       "      <td>1.00000</td>\n",
       "      <td>0.118771</td>\n",
       "      <td>0.084377</td>\n",
       "      <td>0.000537</td>\n",
       "    </tr>\n",
       "    <tr>\n",
       "      <th>25%</th>\n",
       "      <td>3.25000</td>\n",
       "      <td>0.122468</td>\n",
       "      <td>0.108564</td>\n",
       "      <td>0.014570</td>\n",
       "    </tr>\n",
       "    <tr>\n",
       "      <th>50%</th>\n",
       "      <td>5.50000</td>\n",
       "      <td>0.125436</td>\n",
       "      <td>0.115970</td>\n",
       "      <td>0.018124</td>\n",
       "    </tr>\n",
       "    <tr>\n",
       "      <th>75%</th>\n",
       "      <td>7.75000</td>\n",
       "      <td>0.130987</td>\n",
       "      <td>0.123421</td>\n",
       "      <td>0.032702</td>\n",
       "    </tr>\n",
       "    <tr>\n",
       "      <th>max</th>\n",
       "      <td>10.00000</td>\n",
       "      <td>0.141841</td>\n",
       "      <td>0.172770</td>\n",
       "      <td>0.053999</td>\n",
       "    </tr>\n",
       "  </tbody>\n",
       "</table>\n",
       "</div>"
      ],
      "text/plain": [
       "           Iter  Valid Score  Test Score  Score_difference\n",
       "count  10.00000    10.000000   10.000000         10.000000\n",
       "mean    5.50000     0.127273    0.119088          0.022861\n",
       "std     3.02765     0.006875    0.024174          0.017834\n",
       "min     1.00000     0.118771    0.084377          0.000537\n",
       "25%     3.25000     0.122468    0.108564          0.014570\n",
       "50%     5.50000     0.125436    0.115970          0.018124\n",
       "75%     7.75000     0.130987    0.123421          0.032702\n",
       "max    10.00000     0.141841    0.172770          0.053999"
      ]
     },
     "execution_count": 69,
     "metadata": {},
     "output_type": "execute_result"
    }
   ],
   "source": [
    "#create dataframe with results of nested CV\n",
    "list_of_tuples = list(zip(itr_number, inner_results, outer_results, model_params, G_test_list, E_test_list, T_test_list, y_test_list, pred_list))\n",
    "CV_dataset = pd.DataFrame(list_of_tuples, columns = ['Iter', 'Valid Score', 'Test Score', 'Model Parms', 'DP_Groups', \"Experimental Index\", \"Time\", 'Experimental_Release', 'Predicted_Release'])\n",
    "CV_dataset['Score_difference'] = abs(CV_dataset['Valid Score'] - CV_dataset['Test Score']) #Groupby dataframe model iterations that best fit the data (i.e., validitaion <= test)\n",
    "CV_dataset.sort_values(by=['Score_difference', 'Test Score'], ascending=True, inplace=True) \n",
    "CV_dataset = CV_dataset.reset_index(drop=True) # Reset index of dataframe\n",
    "CV_dataset.to_pickle(\"NESTED_CV_RESULTS/LGBM_15_feat.pkl\", compression='infer', protocol=5, storage_options=None) # save dataframe as pickle file\n",
    "CV_dataset.describe()"
   ]
  },
  {
   "cell_type": "code",
   "execution_count": 71,
   "id": "e65a53ad",
   "metadata": {},
   "outputs": [
    {
     "data": {
      "text/plain": [
       "LGBMRegressor(boosting_type='dart', min_child_weight=1.0, n_estimators=300,\n",
       "              num_leaves=16, random_state=4, reg_alpha=0.015, reg_lambda=0.015)"
      ]
     },
     "execution_count": 71,
     "metadata": {},
     "output_type": "execute_result"
    }
   ],
   "source": [
    "best_model_params = CV_dataset.iloc[0,3] # assign the best model paramaters\n",
    "LGBM_15 = model.set_params(**best_model_params) # set params from the best model\n",
    "LGBM_15 = LGBM_15.fit(X, Y)\n",
    "with open('Trained_models/15_feat_LGBM_model.pkl', 'wb') as file: # Save the Model to pickle file\n",
    "          pickle.dump(LGBM_15, file)\n",
    "LGBM_15"
   ]
  },
  {
   "cell_type": "code",
   "execution_count": null,
   "id": "39f9579c",
   "metadata": {},
   "outputs": [],
   "source": []
  }
 ],
 "metadata": {
  "kernelspec": {
   "display_name": "Python 3.9 (tensorflow)",
   "language": "python",
   "name": "tensorflow"
  },
  "language_info": {
   "codemirror_mode": {
    "name": "ipython",
    "version": 3
   },
   "file_extension": ".py",
   "mimetype": "text/x-python",
   "name": "python",
   "nbconvert_exporter": "python",
   "pygments_lexer": "ipython3",
   "version": "3.9.9"
  }
 },
 "nbformat": 4,
 "nbformat_minor": 5
}
